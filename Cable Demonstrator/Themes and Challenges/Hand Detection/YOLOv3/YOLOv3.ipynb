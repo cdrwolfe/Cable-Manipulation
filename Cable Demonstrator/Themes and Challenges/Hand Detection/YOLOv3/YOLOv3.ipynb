{
 "nbformat": 4,
 "nbformat_minor": 0,
 "metadata": {
  "colab": {
   "name": "YOLOv3.ipynb",
   "provenance": []
  },
  "kernelspec": {
   "name": "python3",
   "display_name": "Python 3"
  },
  "accelerator": "GPU",
  "pycharm": {
   "stem_cell": {
    "cell_type": "raw",
    "source": [
     "from google.colab import drive\n",
     "drive.mount('/content/gdrive/')\n",
     "# Run training\n",
     "!python train.py  --config yolov3-spp-ego.cfg --data_config data/egohands/egohandsDarknet/egohands.data\n",
     "\n",
     "\n",
     "\n",
     "\n",
     "\n",
     "\n",
     "\n",
     "\n",
     "\n",
     "\n",
     "\n",
     "\n"
    ],
    "metadata": {
     "collapsed": false
    }
   }
  }
 },
 "cells": []
}